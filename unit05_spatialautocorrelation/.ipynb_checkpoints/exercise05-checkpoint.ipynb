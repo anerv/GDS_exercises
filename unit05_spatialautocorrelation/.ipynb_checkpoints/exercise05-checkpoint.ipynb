{
 "cells": [
  {
   "cell_type": "markdown",
   "metadata": {},
   "source": [
    "<div class=\"frontmatter text-center\">\n",
    "<h1>Geospatial Data Science</h1>\n",
    "<h2>Exercise 5: Spatial Autocorrelation</h2>\n",
    "<h3>IT University of Copenhagen, Spring 2022</h3>\n",
    "<h3>Instructor: Anastassia Vybornova & Ane Rahbek Vierø</h3>\n",
    "</div>\n",
    "\n",
    "# Source\n",
    "This notebook was adapted from:\n",
    "* A course on geographic data science: https://darribas.org/gds_course/content/bF/diy_F.html\n"
   ]
  },
  {
   "cell_type": "markdown",
   "metadata": {},
   "source": [
    "## Data preparation\n",
    "\n",
    "In this exercise we will try to detect *spatial autocorrelation* in the voting behaviour in Denmark.\n",
    "The dataset is from the parliament election in 2019 on the most detailed spatial resolution called 'afstemningsområder' (*voting areas*).\n",
    "\n",
    "You can find the necessary data in the data subfolder. The original data source is https://valgdatabase.dst.dk/\n",
    "\n",
    "- The data set with number of votes for each party in each area does not include the geometries for the area.\n",
    "To plot the election data with the geometries you therefore first need to join the them with a spatial dataset of all voting areas in DK (just like we did in the exercise with LSOAS and the AHAH-index).\n",
    "\n",
    "The dataset with the geometries is from https://dataforsyningen.dk/ (a very good source to public spatial data in DK).\n"
   ]
  },
  {
   "cell_type": "markdown",
   "metadata": {},
   "source": [
    "## Task I: get the data ready!\n",
    "\n",
    "To join the two datasets you need to use the column 'ValgstedId' in the csv file. For the data set with the geometries, you need to create a corresponding ID from the column with the municipal ID ('Kommunekode') and the column with the area number ('Afstemningsomraadenummer').\n",
    "\n",
    "*Tip: Make sure that the two ID columns have the same length. It might also be a good idea to check for NA/non-matched geometries.*\n",
    "\n",
    "Since there are no geometries in the csv-data, there is no need to reproject the data before joining - but it is still good practice to check the crs and see if it is the one we want.\n",
    "In our case the data is in a specific version of the UTM crs usually used for Denmark.\n",
    "\n",
    "When the data are ready, complete all the other bits required for the ESDA analysis of spatial autocorrelation:\n",
    "\n",
    "- Make sure your geography does not have islands (either by removing them or using a method which does not create islands in our data set)\n",
    "- Create a spatial weights matrix\n",
    "- Standardise the spatial weights matrix\n",
    "- Create a standardised version of the data/column you are working with\n",
    "- Create the spatial lag of the number of votes in the voting areas\n",
    "\n",
    "**When creating your spatial weights matrix, think of one criterium to build it that you think would fit this variable (e.g. contiguity, distance-based, etc.), and apply it.**\n",
    "\n",
    "**The data set on votes in each area contains columns with votes for each party, number of people entitled to vote etc. You have to choose yourself which part of the data you want to do your analysis on.**"
   ]
  },
  {
   "cell_type": "code",
   "execution_count": null,
   "metadata": {},
   "outputs": [],
   "source": [
    "import seaborn as sns\n",
    "import pandas as pd\n",
    "import esda\n",
    "from pysal.lib import weights\n",
    "from splot.esda import (\n",
    "    moran_scatterplot, lisa_cluster, plot_local_autocorrelation\n",
    ")\n",
    "import geopandas as gpd\n",
    "import contextily as ctx\n",
    "import matplotlib.pyplot as plt"
   ]
  },
  {
   "cell_type": "code",
   "execution_count": null,
   "metadata": {},
   "outputs": [],
   "source": [
    "# Filepaths\n",
    "\n",
    "fp_votes = './data/electiondata.csv'\n",
    "fp_geom = './data/afstemningsomraader_dk.gpkg'"
   ]
  },
  {
   "cell_type": "markdown",
   "metadata": {},
   "source": [
    "## Task II: global spatial autocorrelation\n",
    "\n",
    "Let's move on to the analytics:\n",
    "\n",
    "- Visualise your data score with a Moran Plot\n",
    "- Calculate Moran's I\n",
    "- *What conclusions can you reach from the Moran Plot and Moran's I? What's the main spatial pattern?*"
   ]
  },
  {
   "cell_type": "markdown",
   "metadata": {},
   "source": [
    "## Task III: local spatial autocorrelation\n",
    "\n",
    "Now that you have a good sense of the overall pattern in the dataset, let's move to the local scale:\n",
    "\n",
    "- Calculate LISA (Local Indicators of Spatial Association) statistics for the voting areas.\n",
    "- Make a map of significant clusters at the 5%\n",
    "- Can you identify hotspots or coldspots? If so, what do they mean? What about spatial outliers?\n",
    "- Create cluster maps for significance levels 1% and 10%; compare them with each other. *What are the main changes? Why?*"
   ]
  },
  {
   "cell_type": "code",
   "execution_count": null,
   "metadata": {},
   "outputs": [],
   "source": []
  }
 ],
 "metadata": {
  "kernelspec": {
   "display_name": "Python 3",
   "language": "python",
   "name": "python3"
  },
  "language_info": {
   "codemirror_mode": {
    "name": "ipython",
    "version": 3
   },
   "file_extension": ".py",
   "mimetype": "text/x-python",
   "name": "python",
   "nbconvert_exporter": "python",
   "pygments_lexer": "ipython3",
   "version": "3.8.12"
  }
 },
 "nbformat": 4,
 "nbformat_minor": 4
}
