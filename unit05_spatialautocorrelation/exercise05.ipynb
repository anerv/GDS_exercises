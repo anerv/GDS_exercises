{
 "cells": [
  {
   "attachments": {},
   "cell_type": "markdown",
   "metadata": {},
   "source": [
    "<div class=\"frontmatter text-center\">\n",
    "<h1>Geospatial Data Science</h1>\n",
    "<h2>Exercise 5: Spatial Autocorrelation</h2>\n",
    "<h3>IT University of Copenhagen, Spring 2023</h3>\n",
    "<h3>Instructor: Jan Leonard Schelhaas</h3>\n",
    "</div>\n",
    "\n",
    "This notebook was adapted from:\n",
    "* A course on geographic data science: https://darribas.org/gds_course/content/bF/diy_F.html"
   ]
  },
  {
   "attachments": {},
   "cell_type": "markdown",
   "metadata": {},
   "source": [
    "## Data preparation\n",
    "\n",
    "In this exercise we will try to detect *spatial autocorrelation* in the voting behaviour in Denmark.\n",
    "The dataset is from the parliament election in 2022 on the most detailed spatial resolution called 'afstemningsområder' (*voting areas*) (similar to the polygon data set that we used in lecture 4!)\n",
    "\n",
    "You can find the necessary data in the data subfolder. Read more about the data on the data source: https://valgdatabase.dst.dk/\n",
    "\n",
    "The data set with number of votes for each party in each area does not include the geometries for the area.\n",
    "To plot the election data with the geometries you therefore first need to join the them with a spatial dataset of all voting areas in DK.\n",
    "\n",
    "The dataset with the geometries is from https://dataforsyningen.dk/ (a very good source to public spatial data in DK).\n",
    "\n",
    "## Task I: Get the data ready!\n",
    "\n",
    "To join the two datasets you need to use the columns 'ValgstedId' in the two files.\n",
    "\n",
    "Since there are no geometries in the csv-data, there is no need to reproject the data before joining - but it is still good practice to check the crs and see if it is the one we want.\n",
    "In our case the data is in a specific version of the UTM crs usually used for Denmark.\n",
    "\n",
    "When the data are ready, complete all the other parts required for the ESDA analysis of spatial autocorrelation:\n",
    "\n",
    "- Make sure your geography does not have islands (either by removing them or using a method which does not create islands in our data set)\n",
    "- Create a spatial weights matrix\n",
    "- Standardise the spatial weights matrix\n",
    "- Create a standardised version of the data/column you are working with\n",
    "- Create the spatial lag of the number of votes in the voting areas\n",
    "\n",
    "**When creating your spatial weights matrix, think of one criterium to build it that you think would fit this variable (e.g. contiguity, distance-based, etc.), and apply it.**\n",
    "\n",
    "**The data set on votes in each area contains columns with votes for each party, number of people entitled to vote, etc. You have to choose yourself which part of the data you want to do your analysis on. It might be a good idea to convert all total numbers to percentage.**\n"
   ]
  },
  {
   "cell_type": "code",
   "execution_count": null,
   "metadata": {},
   "outputs": [],
   "source": [
    "import seaborn as sns\n",
    "import pandas as pd\n",
    "import esda\n",
    "from pysal.lib import weights\n",
    "from splot.esda import (\n",
    "    plot_moran, moran_scatterplot, lisa_cluster, plot_local_autocorrelation,\n",
    ")\n",
    "from splot.libpysal import plot_spatial_weights\n",
    "import geopandas as gpd\n",
    "import numpy as np\n",
    "import contextily as cx\n",
    "import matplotlib.pyplot as plt\n",
    "import warnings\n",
    "warnings.filterwarnings('ignore')"
   ]
  },
  {
   "cell_type": "code",
   "execution_count": null,
   "metadata": {},
   "outputs": [],
   "source": [
    "# Filepaths\n",
    "\n",
    "fp_votes = './data/election_data.csv'\n",
    "fp_geom = './data/voting_areas.gpkg'"
   ]
  },
  {
   "attachments": {},
   "cell_type": "markdown",
   "metadata": {},
   "source": [
    "## Task II: Global spatial autocorrelation\n",
    "\n",
    "Let's move on to the analytics:\n",
    "\n",
    "- Visualise your data score with a Moran Plot\n",
    "- Calculate Moran's I\n",
    "- **What conclusions can you reach from the Moran Plot and Moran's I? What is the main spatial pattern?**"
   ]
  },
  {
   "cell_type": "code",
   "execution_count": null,
   "metadata": {},
   "outputs": [],
   "source": []
  },
  {
   "attachments": {},
   "cell_type": "markdown",
   "metadata": {},
   "source": [
    "## Task III: Local spatial autocorrelation\n",
    "\n",
    "Now that you have a good sense of the overall pattern in the dataset, let's move to the local scale:\n",
    "\n",
    "1. Calculate LISA (Local Indicators of Spatial Association) statistics for the voting areas using a variable of your choice.\n",
    "    - *How many of the voting areas have a significant LISA value at p=0.05?*\n",
    "2. Use a KDE plot to inspect the distribution of LISA values. \n",
    "    - *Can you say something about the general pattern from this alone?*\n",
    "3. How many voting areas are in each of the four quadrants, at p=0.05? (low-low, high-high, high-low, low-low)\n",
    "3. Make a map of significant clusters at the 5%.\n",
    "    - Can you identify hotspots or coldspots? If so, what do they mean? What about spatial outliers?\n",
    "4. Create cluster maps for significance levels 0.5, 1% and 5% and compare them. \n",
    "    - *What are the main changes? Why?*\n",
    "5. **Do the results confirm your impression of voting patterns in Denmark?**\n",
    "\n",
    "**TIPS:**\n",
    "\n",
    "- esda.Moran_Local() returns an object with several attributes! See: https://pysal.org/esda/generated/esda.Moran_Local.html \n",
    "\n",
    "- splot.esda.lisa_cluster takes the p-value as parameter! (default: 5%): https://splot.readthedocs.io/en/latest/generated/splot.esda.lisa_cluster.html\n",
    "\n",
    "- `lisa.q` (if lisa is the object returned by esda.Moran_Local()) returns the quadrant of each object - but without considering the significance"
   ]
  },
  {
   "cell_type": "code",
   "execution_count": null,
   "metadata": {},
   "outputs": [],
   "source": []
  }
 ],
 "metadata": {
  "kernelspec": {
   "display_name": "gds_py",
   "language": "python",
   "name": "python3"
  },
  "language_info": {
   "codemirror_mode": {
    "name": "ipython",
    "version": 3
   },
   "file_extension": ".py",
   "mimetype": "text/x-python",
   "name": "python",
   "nbconvert_exporter": "python",
   "pygments_lexer": "ipython3",
   "version": "3.9.15 | packaged by conda-forge | (main, Nov 22 2022, 08:55:37) \n[Clang 14.0.6 ]"
  },
  "vscode": {
   "interpreter": {
    "hash": "09273b9d70777594a7b7f3f6c3e8e91be451f5d194695438b5ebcc24128e9f82"
   }
  }
 },
 "nbformat": 4,
 "nbformat_minor": 4
}
