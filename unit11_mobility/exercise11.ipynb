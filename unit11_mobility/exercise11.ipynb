{
 "cells": [
  {
   "attachments": {},
   "cell_type": "markdown",
   "id": "elder-kansas",
   "metadata": {},
   "source": [
    "<div class=\"frontmatter text-center\">\n",
    "<h1>Geospatial Data Science</h1>\n",
    "<h2>Exercise 12: Mobility with scikit-mobility</h2>\n",
    "<h3>IT University of Copenhagen, Spring 2023</h3>\n",
    "<h3>Instructors: Jan Leonard Schelhaas</h3>\n",
    "</div>\n",
    "\n",
    "In today's exercise we will practice working with the scikit-mobility package and get some hands on experience with how to handle mobility data.\n",
    "\n",
    "This notebook was developed with inspration from the [scikit-mobility tutorials](https://github.com/scikit-mobility/scikit-mobility/tree/master/examples) and [examples](https://github.com/scikit-mobility/scikit-mobility/tree/master/examples). \n",
    "\n",
    "### Working with scikit mobility - useful links\n",
    "\n",
    "* [Documentation and install instructions](https://scikit-mobility.github.io/scikit-mobility/)\n",
    "* [GitHub Repository](https://github.com/scikit-mobility/scikit-mobility)\n",
    "* [Examples and demos](https://github.com/scikit-mobility/scikit-mobility/tree/master/examples)\n",
    "* [Tutorials](https://github.com/scikit-mobility/tutorials/tree/master/mda_masterbd2020)\n",
    "* [See also the partly overlapping package *movingpandas*](https://github.com/movingpandas/movingpandas)\n",
    "## Short Instructions \n",
    "The exercise is divided into 2 parts: \n",
    "One with flow data and one with trajectory data. \n",
    "\n",
    "For each part the work flow is to:\n",
    "\n",
    "1. **Load the data** (We have done a bit of the pre-processing for you)\n",
    "\n",
    "2. **Convert it to a scikit-mobility format (i.e. respectively a FlowDataFrame and a TrajDataFrame)** (Already done for the trajectories)\n",
    "\n",
    "3. **Visualise the data in a way of your own choice (*we recommend using scikit-mobility's build-in support for easy and nice looking plots with folium*)**\n",
    "\n",
    "4. **Analyse some aspect of the data with a measure of your own choice. You can see all build-in measures [right here](https://scikit-mobility.github.io/scikit-mobility/reference/measures.html).** \n",
    "    *Most of the build in methods are for trajectory data, but see if you can come up with something for the flow data yourself.*\n",
    "\n",
    "\n",
    "## Data\n",
    "The **flow** data we will be using today is an open data set of origins and destinations of trips on Oslo's city bikes.\n",
    "\n",
    "A json file with trips from February 2022 is available with this notebook. You can also download more data from Oslo Bysykkel [here](https://oslobysykkel.no/apne-data/historisk).\n",
    "\n",
    "The **trajectory** data is a dataset of taxi trips in Porto from 2015. Data can be downloaded [here](https://archive.ics.uci.edu/ml/datasets/Taxi+Service+Trajectory+-+Prediction+Challenge,+ECML+PKDD+2015) (train.csv.zip), where you also can read more about the dataset. This data set is very big - we suggest to only import the first x rows (x in the order of 10^4).\n",
    "\n",
    "Below, we give you an example of the visual outcome for this exercise.\n",
    "\n",
    "#### Example of output from flow data visualisation (showing the tessellation data)"
   ]
  },
  {
   "cell_type": "code",
   "execution_count": 1,
   "id": "df329a35-f4d3-48f1-b018-dbf0e6aae3fe",
   "metadata": {},
   "outputs": [
    {
     "data": {
      "text/html": [
       "\n",
       "        <iframe\n",
       "            width=\"900\"\n",
       "            height=\"700\"\n",
       "            src=\"results_examples/exercise11_example_tesselation.html\"\n",
       "            frameborder=\"0\"\n",
       "            allowfullscreen\n",
       "            \n",
       "        ></iframe>\n",
       "        "
      ],
      "text/plain": [
       "<IPython.lib.display.IFrame at 0x7ff2142c9df0>"
      ]
     },
     "execution_count": 1,
     "metadata": {},
     "output_type": "execute_result"
    }
   ],
   "source": [
    "from IPython.display import IFrame\n",
    "IFrame(src='results_examples/exercise11_example_tesselation.html', width=900, height=700)"
   ]
  },
  {
   "cell_type": "markdown",
   "id": "b0dff40b-5852-4293-94fa-b0722ddaaaa3",
   "metadata": {},
   "source": [
    "#### Example of output from flow data visualisation (showing the flows)"
   ]
  },
  {
   "cell_type": "code",
   "execution_count": 2,
   "id": "a0f98a78-edb9-4c51-bb3a-44fc20e17101",
   "metadata": {},
   "outputs": [
    {
     "data": {
      "text/html": [
       "\n",
       "        <iframe\n",
       "            width=\"900\"\n",
       "            height=\"700\"\n",
       "            src=\"results_examples/exercise11_example_flows.html\"\n",
       "            frameborder=\"0\"\n",
       "            allowfullscreen\n",
       "            \n",
       "        ></iframe>\n",
       "        "
      ],
      "text/plain": [
       "<IPython.lib.display.IFrame at 0x7ff21427d070>"
      ]
     },
     "execution_count": 2,
     "metadata": {},
     "output_type": "execute_result"
    }
   ],
   "source": [
    "IFrame(src='results_examples/exercise11_example_flows.html', width=900, height=700)"
   ]
  },
  {
   "cell_type": "markdown",
   "id": "front-symposium",
   "metadata": {},
   "source": [
    "# Coding starts here :)"
   ]
  },
  {
   "cell_type": "code",
   "execution_count": null,
   "id": "insured-camel",
   "metadata": {},
   "outputs": [],
   "source": [
    "# import libraries needed\n",
    "import skmob\n",
    "import geopandas as gpd\n",
    "import pandas as pd\n",
    "from skmob.tessellation import tilers\n",
    "from skmob.utils import plot\n",
    "import matplotlib.pyplot as plt\n",
    "import numpy as np\n",
    "import datetime\n",
    "\n",
    "tess_style = {'color':'gray', 'fillColor':'gray', 'opacity':0.2}"
   ]
  },
  {
   "cell_type": "markdown",
   "id": "bbcd77e1",
   "metadata": {},
   "source": [
    "## Flows\n",
    "\n",
    "Flow data is also often known as origin-destination data (O-D) and, as implied by the name, describes the origin and destination of a trip - but not the actual trajectory between the two points.\n",
    "\n",
    "In our dataset we have all the information on the coordinates for origin and destination in the same row, so we need to modify the data structure a little bit before we can convert it to a scikit-mobility dataframe.\n",
    "The goal is to have a dataframe were each row as the id of the origin and destination location, plus a geodataframe with the location referenced by the origins and destinations.\n",
    "\n",
    "This geodataframe is usually referred to as the 'tesselation' - but you can still use point geometries as tesselations, as we will be doing here."
   ]
  },
  {
   "cell_type": "code",
   "execution_count": null,
   "id": "ba91a6fa",
   "metadata": {},
   "outputs": [],
   "source": [
    "# Load data\n",
    "bike_trips = pd.read_json('data/oslo_bysykkel_0222.json')\n",
    "\n",
    "bike_trips.head()"
   ]
  },
  {
   "cell_type": "markdown",
   "id": "6a16ee05-000d-4928-b4f5-17fcf025fc40",
   "metadata": {},
   "source": [
    "### A bit of data processing..."
   ]
  },
  {
   "cell_type": "code",
   "execution_count": null,
   "id": "308fdcbf-589e-4f24-8f62-07fb1c1303c4",
   "metadata": {},
   "outputs": [],
   "source": [
    "# Reformat data\n",
    "\n",
    "ods = bike_trips[['start_station_id','end_station_id']].copy(deep=True) # You can include more columns if you want to use them in your analysis\n",
    "tesselation_start = bike_trips[['start_station_name','start_station_id','start_station_latitude','start_station_longitude']].copy(deep=True)\n",
    "tesselation_end = bike_trips[['end_station_name','end_station_id','end_station_latitude','end_station_longitude']].copy(deep=True)\n",
    "\n",
    "# Count trips between the same origin and destination\n",
    "ods['flow'] = 1\n",
    "flows = ods.groupby(['start_station_id','end_station_id']).flow.count().reset_index()\n",
    "\n",
    "# Rename columns\n",
    "tesselation_start.rename(columns={'start_station_name':'station_name','start_station_id':'tile_ID','start_station_latitude':'latitude','start_station_longitude':'longitude'},inplace=True)\n",
    "tesselation_start.drop_duplicates(inplace=True)\n",
    "tesselation_end.rename(columns={'end_station_name':'station_name','end_station_id':'tile_ID','end_station_latitude':'latitude','end_station_longitude':'longitude'},inplace=True)\n",
    "tesselation_end.drop_duplicates(inplace=True)\n",
    "\n",
    "# Combine and remove duplicates\n",
    "tesselation = pd.concat([tesselation_start, tesselation_end], ignore_index=True)\n",
    "tesselation.drop_duplicates(inplace=True)\n",
    "# In our data all origin locations appear to also be destinations and vice versa, but just to be use we combine both\n",
    "\n",
    "# Convert to geodataframe\n",
    "tess = gpd.GeoDataFrame(tesselation, geometry=gpd.points_from_xy(tesselation.longitude, tesselation.latitude), crs='EPSG:4326') # There is no defined CRS in the data, but we can read on Oslo Bysykkels website that coordinates are in WGS 84"
   ]
  },
  {
   "cell_type": "code",
   "execution_count": null,
   "id": "5f8d869d-db2a-4c19-b8f8-8407353d3447",
   "metadata": {},
   "outputs": [],
   "source": [
    "# Load to Flowdataframe \n",
    "\n",
    "# Add you code here"
   ]
  },
  {
   "cell_type": "markdown",
   "id": "76ce664f-7365-4a7e-8339-aa6b618aeedd",
   "metadata": {},
   "source": [
    "### Plot tesselation"
   ]
  },
  {
   "cell_type": "code",
   "execution_count": null,
   "id": "649fc746",
   "metadata": {},
   "outputs": [],
   "source": []
  },
  {
   "cell_type": "markdown",
   "id": "3c4ca40e-658d-4727-934a-82ca7c84bff7",
   "metadata": {},
   "source": [
    "### Plot flows"
   ]
  },
  {
   "cell_type": "code",
   "execution_count": null,
   "id": "eeecfcb5",
   "metadata": {},
   "outputs": [],
   "source": []
  },
  {
   "cell_type": "markdown",
   "id": "97864109",
   "metadata": {},
   "source": [
    "## Trajectories\n",
    "\n",
    "With trajectory data, we both have location of start and end point, but also of the location *in-between* the origin and destination (depending on the quality of the trajectory data it might represent the actual trajectory or be closer to a 'sample' of the location points defining the trajectory)."
   ]
  },
  {
   "cell_type": "code",
   "execution_count": null,
   "id": "c84e0c82",
   "metadata": {},
   "outputs": [],
   "source": [
    "# import data set\n",
    "\n",
    "df = pd.read_csv('data/Porto_taxi_data_test_partial_trajectories.csv', sep=',')\n",
    "df.head()"
   ]
  },
  {
   "cell_type": "code",
   "execution_count": null,
   "id": "60ea435f-2d41-4238-b664-5cbacdc2a520",
   "metadata": {},
   "outputs": [],
   "source": [
    "# process data - each point from the polyline should have its own row\n",
    "# each point needs lat and lon coordinates in separate columns\n",
    "rows = []\n",
    "for i, row in df.iterrows():\n",
    "    uid, tid = row['TAXI_ID'], row['TRIP_ID']\n",
    "    call_type = row['CALL_TYPE']\n",
    "    timestamp = row['TIMESTAMP']\n",
    "    day_type = row['DAY_TYPE']\n",
    "    for point in eval(row['POLYLINE']):\n",
    "        rows.append([uid, tid, call_type, timestamp, day_type, point[1], point[0]])\n",
    "\n",
    "temp_df = pd.DataFrame(rows, columns=['uid', 'tid', 'call_type', 'datetime', \n",
    "                                       'day_type', 'lat', 'lng'])\n",
    "temp_df['datetime'] = pd.to_datetime(temp_df['datetime'], unit='s')\n",
    "tdf = skmob.TrajDataFrame(temp_df)\n",
    "tdf.head()"
   ]
  },
  {
   "cell_type": "code",
   "execution_count": null,
   "id": "08f43e80-1757-439a-9d97-75ff35f5284b",
   "metadata": {
    "tags": []
   },
   "outputs": [],
   "source": [
    "# Inspect trajectories data frame:\n",
    "print(tdf.crs)\n",
    "print()\n",
    "print(tdf.parameters)\n",
    "print()\n",
    "print(tdf.dtypes)\n",
    "print()\n",
    "print(\"Unique UIDs: \", len(np.unique(tdf.uid)))"
   ]
  },
  {
   "cell_type": "code",
   "execution_count": null,
   "id": "2024c306",
   "metadata": {},
   "outputs": [],
   "source": [
    "# ADD YOUR CODE HERE"
   ]
  },
  {
   "cell_type": "markdown",
   "id": "898dc837",
   "metadata": {},
   "source": [
    "### Plot trajectories"
   ]
  },
  {
   "cell_type": "code",
   "execution_count": null,
   "id": "9f179add",
   "metadata": {},
   "outputs": [],
   "source": [
    "# ADD YOUR CODE HERE"
   ]
  },
  {
   "cell_type": "code",
   "execution_count": null,
   "id": "0dba6e65",
   "metadata": {},
   "outputs": [],
   "source": []
  }
 ],
 "metadata": {
  "kernelspec": {
   "display_name": "Python 3 (ipykernel)",
   "language": "python",
   "name": "python3"
  },
  "language_info": {
   "codemirror_mode": {
    "name": "ipython",
    "version": 3
   },
   "file_extension": ".py",
   "mimetype": "text/x-python",
   "name": "python",
   "nbconvert_exporter": "python",
   "pygments_lexer": "ipython3",
   "version": "3.9.12"
  },
  "vscode": {
   "interpreter": {
    "hash": "bb88738662d51bc09c0ce08370284f3b3358f12b83bd922b00d8e9990a2292b6"
   }
  }
 },
 "nbformat": 4,
 "nbformat_minor": 5
}
