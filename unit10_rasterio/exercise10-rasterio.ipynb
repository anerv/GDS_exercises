{
 "cells": [
  {
   "attachments": {},
   "cell_type": "markdown",
   "metadata": {},
   "source": [
    "<div class=\"frontmatter text-center\">\n",
    "<h1>Geospatial Data Science</h1>\n",
    "<h2>Exercise 10: Raster-based analysis</h2>\n",
    "<h3>IT University of Copenhagen, Spring 2023</h3>\n",
    "<h3>Instructor: Jan Leonard Schelhaas</h3>\n",
    "</div>\n",
    "\n",
    "This notebook was adapted from:\n",
    "* A course on geographic data science:\n",
    "\n",
    "With this notebook, we will see how to read, plot and manipulate raster layers\n",
    "\n",
    "<mark> IMPORTANT:</mark> The data for this exercise can be found on LearnIT."
   ]
  },
  {
   "attachments": {},
   "cell_type": "markdown",
   "metadata": {},
   "source": [
    "## Task I: Digital Elevation Models in Copenhagen\n",
    "\n",
    "In this task, you will explore the DSM and DTM in Copenhagen from [Dataforsyning](https://dataforsyningen.dk/). We are going to read the files and extract information from them. We are going to use the [rasterio](https://rasterio.readthedocs.io/en/latest/) library."
   ]
  },
  {
   "cell_type": "code",
   "execution_count": null,
   "metadata": {},
   "outputs": [],
   "source": [
    "import rasterio #install rasterio =1.2.10 if you have errors\n",
    "import numpy as np"
   ]
  },
  {
   "attachments": {},
   "cell_type": "markdown",
   "metadata": {},
   "source": [
    "[GeoTIFF](https://www.geospatialworld.net/article/geotiff-a-standard-image-file-format-for-gis-applications/) is the most common format for ratser layers. There are \n",
    "single- and multi-band layers. "
   ]
  },
  {
   "cell_type": "code",
   "execution_count": null,
   "metadata": {},
   "outputs": [],
   "source": [
    "# Open the file:\n",
    "dsm = rasterio.open('./data/DSM.tif')\n",
    "dtm = rasterio.open('./data/DTM.tif')"
   ]
  },
  {
   "attachments": {},
   "cell_type": "markdown",
   "metadata": {},
   "source": [
    "Let's get some information"
   ]
  },
  {
   "cell_type": "code",
   "execution_count": null,
   "metadata": {},
   "outputs": [],
   "source": [
    "print(\"The file is called\", dsm.name)\n",
    "print()\n",
    "print(\"It is\", dsm.width, \"x\",dsm.height,\"pixels big\")\n",
    "print()\n",
    "print(\"It covers the following extent:\",dsm.bounds)\n",
    "print()\n",
    "print(\"It is in the following CRS:\",dsm.crs)"
   ]
  },
  {
   "attachments": {},
   "cell_type": "markdown",
   "metadata": {},
   "source": [
    "Let's plot the map"
   ]
  },
  {
   "cell_type": "code",
   "execution_count": null,
   "metadata": {},
   "outputs": [],
   "source": [
    "# your code here"
   ]
  },
  {
   "attachments": {},
   "cell_type": "markdown",
   "metadata": {},
   "source": [
    "Let's plot the histogram of the DSM and the DTM. What information can we extract from that? \n",
    "Take a look at the [documentation](https://rasterio.readthedocs.io/en/stable/topics/plotting.html)"
   ]
  },
  {
   "cell_type": "code",
   "execution_count": null,
   "metadata": {},
   "outputs": [],
   "source": [
    " # your code here"
   ]
  },
  {
   "attachments": {},
   "cell_type": "markdown",
   "metadata": {},
   "source": [
    "Let's convert the data to a numpy array"
   ]
  },
  {
   "cell_type": "code",
   "execution_count": null,
   "metadata": {},
   "outputs": [],
   "source": [
    "# your code here"
   ]
  },
  {
   "attachments": {},
   "cell_type": "markdown",
   "metadata": {},
   "source": [
    "### With these at hand and considering the Map Algebra calculations, get to work with the following challenges:\n",
    "\n",
    "1. Calculate the height of the buildings.\n",
    "2. Average the building height per district.\n",
    "3. Plot the hillshade of the DSM and the slope and aspect of the DTM."
   ]
  },
  {
   "attachments": {},
   "cell_type": "markdown",
   "metadata": {},
   "source": [
    "Map Algebra"
   ]
  },
  {
   "attachments": {},
   "cell_type": "markdown",
   "metadata": {},
   "source": [
    "1. Local operation: Calculate buildings heights "
   ]
  },
  {
   "cell_type": "code",
   "execution_count": null,
   "metadata": {},
   "outputs": [],
   "source": [
    "# your code here"
   ]
  },
  {
   "attachments": {},
   "cell_type": "markdown",
   "metadata": {},
   "source": [
    "2. Zonal operation: Average building height per district"
   ]
  },
  {
   "cell_type": "code",
   "execution_count": null,
   "metadata": {},
   "outputs": [],
   "source": [
    "from rasterstats import zonal_stats\n",
    "\n",
    "# your code here"
   ]
  },
  {
   "attachments": {},
   "cell_type": "markdown",
   "metadata": {},
   "source": [
    "3.  Slope, aspect, and hillshade\n",
    "\n",
    "We'll use the Python bindings for [GDAL](https://gdal.org), the Geospatial Data Abstraction Library, for that. GDAL is working in the background of many GIS programs and comes with a number of very useful tools that can be used from a command line interface or through Python, so make sure to take a close look at the GDAL documentation. Specifically, you will need to use the [DEMProcessing](https://gdal.org/api/python/osgeo.gdal.html#osgeo.gdal.DEMProcessing) tool."
   ]
  },
  {
   "cell_type": "code",
   "execution_count": null,
   "metadata": {},
   "outputs": [],
   "source": [
    "from osgeo import gdal\n",
    "# your code here"
   ]
  },
  {
   "attachments": {},
   "cell_type": "markdown",
   "metadata": {},
   "source": [
    "## Task II: Population distribution in Krakow, Poland\n",
    "There are 2additional layers in the data folder: one representing the population distribution the city of Krakow (GHS) and one mapping human settlements in Europe (ESM). Both layers are reprojected and resampled at the resolution of 100m at the EPSG:3035 (ETRS89, LAEA). \n",
    "The tasks here are:\n",
    "\n",
    "1. Merge the 2 layers and create a new one with 2 bands.\n",
    "2. Estimate the sum and the shares of the population residing in residential or non-residential areas. \n",
    "\n",
    "The GHS has continuous values showing the population per grid cell, while the ESM is categorical where 1: Land, 250: Non-Residential built-up area, 255: Residential built-up area    "
   ]
  },
  {
   "cell_type": "code",
   "execution_count": null,
   "metadata": {},
   "outputs": [],
   "source": [
    "# your code here"
   ]
  }
 ],
 "metadata": {
  "kernelspec": {
   "display_name": "cdq_new",
   "language": "python",
   "name": "python3"
  },
  "language_info": {
   "codemirror_mode": {
    "name": "ipython",
    "version": 3
   },
   "file_extension": ".py",
   "mimetype": "text/x-python",
   "name": "python",
   "nbconvert_exporter": "python",
   "pygments_lexer": "ipython3",
   "version": "3.9.16"
  },
  "vscode": {
   "interpreter": {
    "hash": "bb88738662d51bc09c0ce08370284f3b3358f12b83bd922b00d8e9990a2292b6"
   }
  }
 },
 "nbformat": 4,
 "nbformat_minor": 4
}
