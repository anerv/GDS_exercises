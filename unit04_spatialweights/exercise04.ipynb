{
 "cells": [
  {
   "attachments": {},
   "cell_type": "markdown",
   "metadata": {},
   "source": [
    "<div class=\"frontmatter text-center\">\n",
    "<h1>Geospatial Data Science</h1>\n",
    "<h2>Exercise 4: Spatial Weights</h2>\n",
    "<h3>IT University of Copenhagen, Spring 2023</h3>\n",
    "<h3>Instructor: Jan Leonard Schelhaas</h3>\n",
    "</div>\n",
    "\n",
    "This notebook was adapted from:\n",
    "* A course on geographic data science: https://darribas.org/gds_course/content/bE/diy_E.html"
   ]
  },
  {
   "cell_type": "code",
   "execution_count": null,
   "metadata": {},
   "outputs": [],
   "source": [
    "import geopandas as gpd\n",
    "import pandas as pd\n",
    "import numpy as np\n",
    "import seaborn as sns\n",
    "import contextily as cx\n",
    "from pysal.lib import examples\n",
    "from pysal.lib import weights\n",
    "import matplotlib.pyplot as plt"
   ]
  },
  {
   "attachments": {},
   "cell_type": "markdown",
   "metadata": {},
   "source": [
    "## Task I: Contiguity Weigths & NYC Tracts\n",
    "\n",
    "In this task we will explore **contiguity** weights. To do it, we will load Census tracts for New York City. Census tracts are the geography the US Census Burearu uses for areas around 4,000 people. We will use a dataset prepared as part of the [PySAL examples](https://pysal.org/libpysal/tutorial.html?highlight=examples#example-datasets). Geographically, this is a set of polygons that cover all the area of the city of New York. \n",
    "\n",
    "We can get information on the dataset and its variables directly from pysal.lib.examples (or [here](https://geodacenter.github.io/data-and-lab/NYC_Tract_ACS2008_12/))."
   ]
  },
  {
   "cell_type": "code",
   "execution_count": null,
   "metadata": {},
   "outputs": [],
   "source": [
    "examples.explain(\"NYC Socio-Demographics\")"
   ]
  },
  {
   "cell_type": "markdown",
   "metadata": {},
   "source": [
    "To check out the location of the files that make up the dataset, we can load it with `load_example` and inspect with `get_file_list`:"
   ]
  },
  {
   "cell_type": "code",
   "execution_count": null,
   "metadata": {},
   "outputs": [],
   "source": [
    "# Load example (this automatically downloads if not available)\n",
    "nyc_data = examples.load_example(\"NYC Socio-Demographics\")\n",
    "# Print the paths to all the files in the dataset\n",
    "nyc_data.get_file_list()"
   ]
  },
  {
   "attachments": {},
   "cell_type": "markdown",
   "metadata": {},
   "source": [
    "And now let's read the shapefile:"
   ]
  },
  {
   "cell_type": "code",
   "execution_count": null,
   "metadata": {},
   "outputs": [],
   "source": [
    "nyc = gpd.read_file(nyc_data.get_path(\"NYC_Tract_ACS2008_12.shp\"))\n",
    "nyc.plot(figsize=(9, 9));"
   ]
  },
  {
   "attachments": {},
   "cell_type": "markdown",
   "metadata": {},
   "source": [
    "### Task 1a: Create a contiguity matrix using the queen criterion.\n",
    "\n",
    "<div class=\"alert alert-block alert-info\">\n",
    "<b>Note:</b> PySal will warn us that using contigency for weights results in 7 disconnected components and 3 islands. This is not a problem for our task, but if the data were used in a real analysis, we might want to consider using a different method for creating spatial weights!\n",
    "\n",
    "You might also get warning about islands and disconnected components later in the analysis. These should not pose a problem, but think about how you could solve this?\n",
    "</div>"
   ]
  },
  {
   "attachments": {},
   "cell_type": "markdown",
   "metadata": {},
   "source": [
    "### Task 1b: Central Park Neighbours \n",
    "* Let's focus on Central Park. Find the corresponding census tract in our nyc dataset. [This map](https://hub.arcgis.com/datasets/DCP::nyc-census-tracts-for-2010-us-census?geometry=-76.267%2C40.341%2C-71.688%2C41.069) can help.\n",
    "* How many neighbours does Central Park have?\n",
    "* Make a plot of Central Park and the surrounding area (zoomed in), highlighting all neighbours of Central Park - creating a similar plot as in the lecture (cf. *\"Queen neighbors of 708518\"*)"
   ]
  },
  {
   "cell_type": "code",
   "execution_count": null,
   "metadata": {},
   "outputs": [],
   "source": [
    "# Add your code here"
   ]
  },
  {
   "cell_type": "markdown",
   "metadata": {},
   "source": [
    "### Task 1c: Block weights by borough\n",
    "* Using the 5 boroughs of NYC, create a block spatial weights matrix where every tract is connected to other tracts in the same borough."
   ]
  },
  {
   "cell_type": "code",
   "execution_count": null,
   "metadata": {},
   "outputs": [],
   "source": [
    "# Add your code here"
   ]
  },
  {
   "cell_type": "markdown",
   "metadata": {},
   "source": [
    "### Task 1d: Mean number of neighbours for contiguity and block matrices\n",
    "* Compare the number of neighbours for the contiguity matrix and the block spatial weights matrix. \n",
    "* Which criterion gives you which number of neighbours - and why the big difference?*"
   ]
  },
  {
   "cell_type": "code",
   "execution_count": null,
   "metadata": {},
   "outputs": [],
   "source": [
    "# Add your code here"
   ]
  },
  {
   "attachments": {},
   "cell_type": "markdown",
   "metadata": {},
   "source": [
    "## Task 2: Distance Weights & Japanese cities\n",
    "\n",
    "In this task, you will be generating spatial weights matrices based on **distance**. We will use a [dataset](http://www.oecd.org/cfe/regionaldevelopment/functional-urban-areas.htm) of Japanese urban areas provided by [OECD](http://www.oecd.org). Let's get it ready for you to work on it directly.\n",
    "\n",
    "The data are available over the web on the following address and we can read straight into a GeoDataFrame:"
   ]
  },
  {
   "cell_type": "code",
   "execution_count": null,
   "metadata": {},
   "outputs": [],
   "source": [
    "jp = gpd.read_file(\"http://www.oecd.org/cfe/regionaldevelopment/Japan.zip\")"
   ]
  },
  {
   "attachments": {},
   "cell_type": "markdown",
   "metadata": {},
   "source": [
    "If this does not work, you can find the data in the data folder ('Japan.shp')."
   ]
  },
  {
   "cell_type": "code",
   "execution_count": null,
   "metadata": {},
   "outputs": [],
   "source": [
    "# inspect the data set\n",
    "jp.head()"
   ]
  },
  {
   "attachments": {},
   "cell_type": "markdown",
   "metadata": {},
   "source": [
    "If we make a quick plot, we can see these are polygons covering the part of the Japanese geography that is considered urban:"
   ]
  },
  {
   "cell_type": "code",
   "execution_count": null,
   "metadata": {},
   "outputs": [],
   "source": [
    "ax = jp.plot(color=\"red\", alpha=0.5, figsize=(9, 9))\n",
    "cx.add_basemap(ax, crs=jp.crs)"
   ]
  },
  {
   "attachments": {},
   "cell_type": "markdown",
   "metadata": {},
   "source": [
    "For this example, we need two transformations: \n",
    "- lon/lat coordinates to a geographical projection\n",
    "- polygons to points. \n",
    "\n",
    "To calculate distances effectively, we need to ensure the coordinates of our geographic data are expressed in metres (or a similar measurement unit). The original dataset is expressed in lon/lat degrees:"
   ]
  },
  {
   "cell_type": "code",
   "execution_count": null,
   "metadata": {},
   "outputs": [],
   "source": [
    "jp.crs"
   ]
  },
  {
   "cell_type": "markdown",
   "metadata": {},
   "source": [
    "We can use the Japan Plane Rectangular CS XVII system ([`EPSG:2459`](http://epsg.io/2459)), which is expressed in metres:"
   ]
  },
  {
   "cell_type": "code",
   "execution_count": null,
   "metadata": {},
   "outputs": [],
   "source": [
    "jp = jp.to_crs(epsg=2459)"
   ]
  },
  {
   "cell_type": "markdown",
   "metadata": {},
   "source": [
    "So the resulting table is in metres:"
   ]
  },
  {
   "cell_type": "code",
   "execution_count": null,
   "metadata": {},
   "outputs": [],
   "source": [
    "jp.crs"
   ]
  },
  {
   "attachments": {},
   "cell_type": "markdown",
   "metadata": {},
   "source": [
    "Distances are easier to calculate between points than between polygons. Hence, we will **convert the urban areas into their centroids**:"
   ]
  },
  {
   "cell_type": "code",
   "execution_count": null,
   "metadata": {},
   "outputs": [],
   "source": [
    "jp_c = jp.copy()\n",
    "jp_c.geometry = jp.geometry.centroid"
   ]
  },
  {
   "cell_type": "code",
   "execution_count": null,
   "metadata": {},
   "outputs": [],
   "source": [
    "jp_c.head()"
   ]
  },
  {
   "cell_type": "markdown",
   "metadata": {},
   "source": [
    "So the result is a seet of points expressed in metres:"
   ]
  },
  {
   "cell_type": "code",
   "execution_count": null,
   "metadata": {},
   "outputs": [],
   "source": [
    "fig, ax = plt.subplots(1,1, figsize = (10,10))\n",
    "jp.plot(ax = ax, color =\"black\")\n",
    "jp_c.plot(ax = ax, markersize = 4, color = \"red\")\n",
    "cx.add_basemap(ax, crs=jp.crs)\n",
    "plt.show()"
   ]
  },
  {
   "attachments": {},
   "cell_type": "markdown",
   "metadata": {},
   "source": [
    "### Task 2a\n",
    "* Create two spatial weights matrices based on **distance**: one with the five nearest neighbours; one with a 100km distance band. \n",
    "* Remember to consider the correct distance unit in the dataset!\n",
    "* Compare the mean number of neighbours for both spatial weight matrices. \n",
    "* **What are the main differences you can spot? In which cases do you think one criterion would be preferable over the other?**"
   ]
  },
  {
   "cell_type": "code",
   "execution_count": null,
   "metadata": {},
   "outputs": [],
   "source": [
    "# Your code for task 2a here"
   ]
  },
  {
   "cell_type": "markdown",
   "metadata": {},
   "source": [
    "### Task 2b: Tokyo Plotting Challenge (optional)\n",
    "\n",
    "Focus on Tokyo and the 100km spatial weights matrix generated above. Make a plot where you visualize Tokyo, the 100km distance band, and highlight all neighbouring cities that lie within the distance band.\n",
    "\n",
    "An optional recipe to follow:\n",
    "\n",
    "0. Find Tokyo in our jp dataset\n",
    "1. Generate a [buffer](https://geopandas.org/en/stable/docs/reference/api/geopandas.GeoSeries.buffer.html) of 100km around the Tokyo centroid.\n",
    "2. Start the plot with the Tokyo urban area polygon (from `jp_cities`)\n",
    "3. Plots its neighbours (within the buffer)\n",
    "4. Plot the neighbours' centroids (points)\n",
    "5. Plot the buffer on top\n",
    "6. Add a basemap\n",
    "\n",
    "Your figure should look similar to:"
   ]
  },
  {
   "cell_type": "code",
   "execution_count": null,
   "metadata": {},
   "outputs": [],
   "source": [
    "from IPython.display import Image\n",
    "Image(\"https://darribas.org/gds_course/_images/diy_E_24_1.png\")"
   ]
  },
  {
   "cell_type": "code",
   "execution_count": null,
   "metadata": {},
   "outputs": [],
   "source": [
    "# Your code for task 2b here"
   ]
  }
 ],
 "metadata": {
  "kernelspec": {
   "display_name": "gds_py",
   "language": "python",
   "name": "python3"
  },
  "language_info": {
   "codemirror_mode": {
    "name": "ipython",
    "version": 3
   },
   "file_extension": ".py",
   "mimetype": "text/x-python",
   "name": "python",
   "nbconvert_exporter": "python",
   "pygments_lexer": "ipython3",
   "version": "3.9.15"
  },
  "vscode": {
   "interpreter": {
    "hash": "09273b9d70777594a7b7f3f6c3e8e91be451f5d194695438b5ebcc24128e9f82"
   }
  }
 },
 "nbformat": 4,
 "nbformat_minor": 4
}
