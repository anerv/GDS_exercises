{
 "cells": [
  {
   "attachments": {},
   "cell_type": "markdown",
   "metadata": {},
   "source": [
    "## Visualizing large geospatial datasets using deck.gl\n",
    "\n",
    "See the documentation for the python library here: https://pydeck.gl/\n",
    "\n",
    "Learn more about deck.gl here: https://deck.gl/ "
   ]
  },
  {
   "cell_type": "code",
   "execution_count": null,
   "metadata": {},
   "outputs": [],
   "source": [
    "# install libraries needed for this tutorial\n",
    "! pip install pydeck[jupyter] pandas h3 gtfs-kit numpy"
   ]
  },
  {
   "cell_type": "code",
   "execution_count": null,
   "metadata": {},
   "outputs": [],
   "source": [
    "import pandas as pd\n",
    "import numpy as np\n",
    "import pydeck as pdk\n",
    "import h3.api.basic_str as h3\n",
    "import gtfs_kit"
   ]
  },
  {
   "attachments": {},
   "cell_type": "markdown",
   "metadata": {},
   "source": [
    "### Example 1: Visualizing transit routes using deck.gl\n",
    "\n",
    "For this example, we will put all train routes in Hamburg, Germany on a map. You can replace this with a GTFS feed of your choice. \n",
    "\n",
    "<mark>WARNING!</mark> this notebook might need a lot of RAM\n",
    "\n",
    "Most transit agencies publish their timetables in GTFS format (https://gtfs.org/schedule/reference/). This contains the entire timetable but also shapes of the transit lines. "
   ]
  },
  {
   "cell_type": "code",
   "execution_count": null,
   "metadata": {},
   "outputs": [],
   "source": [
    "# load a feed, in this case from Hamburg, Germany\n",
    "feed = gtfs_kit.read_feed(\"https://transitfeeds.com/p/hamburger-verkehrsverbund-gmbh/1010/latest/download\", dist_units=\"km\")\n",
    "LAT, LON = 53.55, 9.9\n",
    "\n",
    "# alterantive - all of Denmark (this is a little bigger though)\n",
    "# feed = gtfs_kit.read_feed(\"https://github.com/potatoTVnet/transit/raw/master/resources/rejseplanen.zip\", dist_units=\"km\")\n",
    "# LAT, LON = 55.5, 12.6"
   ]
  },
  {
   "cell_type": "code",
   "execution_count": null,
   "metadata": {},
   "outputs": [],
   "source": [
    "routes_with_geo = gtfs_kit.routes.geometrize_routes(feed, route_ids=feed.routes.query(\"route_type < 3 or route_type == 109\")['route_id'].tolist())\n",
    "print(routes_with_geo.shape)\n",
    "\n",
    "routes_with_geo.head()"
   ]
  },
  {
   "attachments": {},
   "cell_type": "markdown",
   "metadata": {},
   "source": [
    "Pydeck prefers to handle data in a binary format, therefore we need to transform the geometries into arrays. It can also handle Geodataframes directly, but that might result in worse performance. "
   ]
  },
  {
   "cell_type": "code",
   "execution_count": null,
   "metadata": {},
   "outputs": [],
   "source": [
    "def get_color(route_type):\n",
    "    if route_type == 109:\n",
    "        # s train\n",
    "        return [255, 10, 10]\n",
    "    elif route_type == 1:\n",
    "        # metro / subway\n",
    "        return [0, 156, 211]\n",
    "    elif route_type == 2:\n",
    "        # rail\n",
    "        return [230, 230, 230]\n",
    "    else:\n",
    "        # tram or other rail\n",
    "        return [255, 204, 0]\n",
    "\n",
    "def multi_line_to_array(geom):\n",
    "    try:\n",
    "        # its a multilinestring\n",
    "        geom_lst = list(map(lambda y: y.xy, geom.geoms))\n",
    "    except AttributeError:\n",
    "        # only a linestring\n",
    "        geom_lst = [geom.xy]\n",
    "    for i, (x_line, y_line) in enumerate(geom_lst):\n",
    "        geom_lst[i] = list(zip(x_line, y_line))\n",
    "    return geom_lst\n",
    "\n",
    "routes_with_geo['paths'] = routes_with_geo['geometry'].apply(lambda x: multi_line_to_array(x))\n",
    "routes_with_geo['color'] = routes_with_geo['route_type'].apply(lambda x: get_color(x))"
   ]
  },
  {
   "cell_type": "code",
   "execution_count": null,
   "metadata": {},
   "outputs": [],
   "source": [
    "plot_df = routes_with_geo.explode('paths')[['route_short_name', 'paths', 'color']]"
   ]
  },
  {
   "cell_type": "code",
   "execution_count": null,
   "metadata": {},
   "outputs": [],
   "source": [
    "plot_df.sample(5)"
   ]
  },
  {
   "cell_type": "code",
   "execution_count": null,
   "metadata": {},
   "outputs": [],
   "source": [
    "INITIAL_VIEW_STATE = pdk.ViewState(latitude=LAT, longitude=LON, zoom=9, max_zoom=16, pitch=30, bearing=0)"
   ]
  },
  {
   "cell_type": "code",
   "execution_count": null,
   "metadata": {},
   "outputs": [],
   "source": [
    "path = pdk.Layer(\n",
    "    type=\"PathLayer\",\n",
    "    data=plot_df,\n",
    "    pickable=True,\n",
    "    get_color=\"color\",\n",
    "    opacity=0.7,\n",
    "    width_scale=10,\n",
    "    width_min_pixels=2,\n",
    "    get_path=\"paths\",\n",
    "    get_width=3,\n",
    ")\n",
    "\n",
    "r = pdk.Deck(layers=[path], initial_view_state=INITIAL_VIEW_STATE, tooltip={\"text\": \"{route_short_name}\"})\n",
    "\n",
    "r.show()"
   ]
  },
  {
   "attachments": {},
   "cell_type": "markdown",
   "metadata": {},
   "source": [
    "### Example 2: Visualizing transit accessibility in the Copenhagen area\n",
    "\n",
    "The data contains the transit accessibility metric for every point that can be reached by walking. The data was prepared for every hour and every day of the week. \n",
    "\n",
    "It was part of a geospatial data science project, which can be found here: https://potatotvnet.github.io/transit/ "
   ]
  },
  {
   "cell_type": "code",
   "execution_count": null,
   "metadata": {},
   "outputs": [],
   "source": [
    "h3_data = pd.read_json(\"https://raw.githubusercontent.com/potatoTVnet/transit/master/docs/h3/841f059ffffffff.json\")\n",
    "h3_data.head()"
   ]
  },
  {
   "cell_type": "code",
   "execution_count": null,
   "metadata": {},
   "outputs": [],
   "source": [
    "# we are selecting Monday morning from the accessibility metric array. Monday at 10 has the index 34.\n",
    "h3_plot_data = h3_data.copy()\n",
    "h3_plot_data['freq'] = h3_plot_data['freq'].apply(lambda x: np.float32(x[34]))\n",
    "h3_plot_data = h3_plot_data[['h3', 'freq']]"
   ]
  },
  {
   "cell_type": "code",
   "execution_count": null,
   "metadata": {},
   "outputs": [],
   "source": [
    "INITIAL_VIEW_STATE = pdk.ViewState(latitude=55.5, longitude=12.6, zoom=9, max_zoom=16, pitch=30, bearing=0)"
   ]
  },
  {
   "cell_type": "code",
   "execution_count": null,
   "metadata": {},
   "outputs": [],
   "source": [
    "h3 = pdk.Layer(\n",
    "    type=\"H3HexagonLayer\",\n",
    "    data=h3_plot_data,\n",
    "    get_hexagon=\"h3\",\n",
    "    get_elevation=\"freq\",\n",
    "    get_fill_color=[230, 230, 230, 80],\n",
    "    pickable=False,\n",
    "    wireframe=False,\n",
    "    filled=True,\n",
    "    extruded=True,\n",
    "    elevationScale=40,\n",
    ")\n",
    "\n",
    "s = pdk.Deck(layers=[h3], initial_view_state=INITIAL_VIEW_STATE)\n",
    "\n",
    "s.show()"
   ]
  }
 ],
 "metadata": {
  "kernelspec": {
   "display_name": "base",
   "language": "python",
   "name": "python3"
  },
  "language_info": {
   "codemirror_mode": {
    "name": "ipython",
    "version": 3
   },
   "file_extension": ".py",
   "mimetype": "text/x-python",
   "name": "python",
   "nbconvert_exporter": "python",
   "pygments_lexer": "ipython3",
   "version": "3.10.10"
  },
  "orig_nbformat": 4
 },
 "nbformat": 4,
 "nbformat_minor": 2
}
