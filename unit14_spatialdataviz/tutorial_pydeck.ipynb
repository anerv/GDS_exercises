{
 "cells": [
  {
   "attachments": {},
   "cell_type": "markdown",
   "id": "85193a28",
   "metadata": {},
   "source": [
    "<h1>Geospatial Data Science</h1>\n",
    "<h2>Geospatial Data Visualization: pydeck</h2>\n",
    "<h3>IT University of Copenhagen, Spring 2023</h3>\n",
    "<h3>Instructor: Ane Rahbek Vierø</h3>\n",
    "\n",
    "This notebook introduces [**pydeck**](https://pydeck.gl/index.html), a python binding for deck.gl. pydeck/deck.gl are great for interactive visualizations of large geospatial datasets.\n",
    "\n",
    "Tutorial sources + other useful links:\n",
    "\n",
    "* Documentation: https://pydeck.gl/index.html\n",
    "* Motivation for pydeck: https://medium.com/vis-gl/pydeck-unlocking-deck-gl-for-use-in-python-ce891532f986\n",
    "* Walkthrough of the core elements in a pydeck plot: https://notebook.community/uber-common/deck.gl/bindings/pydeck/examples/01%20-%20Introduction\n",
    "* deck.gl documentation: https://deck.gl/docs"
   ]
  },
  {
   "cell_type": "code",
   "execution_count": null,
   "id": "aaf25feb",
   "metadata": {},
   "outputs": [],
   "source": [
    "## Import libraries\n",
    "\n",
    "import pydeck as pdk\n",
    "import pandas as pd\n",
    "import geopandas as gpd\n",
    "import json "
   ]
  },
  {
   "attachments": {},
   "cell_type": "markdown",
   "id": "342596d8",
   "metadata": {},
   "source": [
    "## Quick demo: pydeck 3D Hexagons\n",
    "\n",
    "To get a quick idea of how pydeck works, let's try a demo using traffic accident data from the UK."
   ]
  },
  {
   "cell_type": "code",
   "execution_count": null,
   "id": "ff916fc2",
   "metadata": {
    "scrolled": false
   },
   "outputs": [],
   "source": [
    "# 2014 locations of car accidents in the UK\n",
    "UK_ACCIDENTS_DATA = 'https://raw.githubusercontent.com/visgl/deck.gl-data/master/examples/3d-heatmap/heatmap-data.csv'\n",
    "\n",
    "\n",
    "# Let's see what the data looks like:\n",
    "pd.read_csv(UK_ACCIDENTS_DATA).head()\n"
   ]
  },
  {
   "attachments": {},
   "cell_type": "markdown",
   "id": "6dd47e9d",
   "metadata": {},
   "source": [
    "Our traffic accidents data simply consist of point locations defined by longitude and latitude. To show where most accidents happen, we will aggregate and plot them using pydeck's build in `hexagonlayer`."
   ]
  },
  {
   "cell_type": "code",
   "execution_count": null,
   "id": "81c073e6",
   "metadata": {
    "scrolled": false
   },
   "outputs": [],
   "source": [
    "# Define a layer to display on a map\n",
    "layer = pdk.Layer(\n",
    "    'HexagonLayer', # We specify that we want to use the prespecified hexagon layers to aggregate our data\n",
    "    UK_ACCIDENTS_DATA, # name of data source - can also be a datafrane\n",
    "    get_position=['lng', 'lat'], # name of coordinate columns in our data\n",
    "    radius=1000, # radius of hexagons\n",
    "    auto_highlight=True, # change the color of object on hover\n",
    "    elevation_scale=50, # scales the data\n",
    "    pickable=True, # allow hover\n",
    "    elevation_range=[0, 3000], # range of elevation values\n",
    "    extruded=True,   # extrude polygons - if false they will not be in 3D,\n",
    "    colorRange=[[241,238,246],[212,185,218],[201,148,199],[223,101,176],[221,28,119],[152,0,67]], # specify color map as RGB values\n",
    "    coverage=1, # cell size scale factor,\n",
    ")\n",
    "\n",
    "# Define rendering/\"camera angle\" on the map\n",
    "# Set the viewport location\n",
    "view_state = pdk.ViewState(\n",
    "    longitude=-1.415, #  Latitude of the viewport center on map. Default to 0.\n",
    "    latitude=52.2323, # Longitude of the viewport center on map. Default to 0.\n",
    "    zoom=6, # map zoom\n",
    "    min_zoom=5,\n",
    "    max_zoom=15,\n",
    "    pitch= 40.5, # The pitch (tilt) of the map from the screen, in degrees (0 is straight down). Default to 0\n",
    "    bearing=-30 # The bearing (rotation) of the map from north, in degrees counter-clockwise (0 means north is up). Default to 0.\n",
    ")\n",
    "\n",
    "# Render\n",
    "# r = pdk.Deck(layers=[layer], initial_view_state=view_state)\n",
    "# r.to_html('hex_demo.html') # save map to html"
   ]
  },
  {
   "attachments": {},
   "cell_type": "markdown",
   "id": "a18f6ae3",
   "metadata": {},
   "source": [
    "### Same dataset as a scatter point map:"
   ]
  },
  {
   "cell_type": "code",
   "execution_count": null,
   "id": "c000fbf6",
   "metadata": {},
   "outputs": [],
   "source": [
    "# Define a layer to display on a map\n",
    "layer = pdk.Layer(\n",
    "    'ScatterplotLayer', # We specify that we want to use the prespecified hexagon layers to aggregate our data\n",
    "    UK_ACCIDENTS_DATA, # name of data source - can also be a datafrane\n",
    "    get_position=['lng', 'lat'], # name of coordinate columns in our data\n",
    "    auto_highlight=True, # change the color of object on hover\n",
    "    pickable=True, # allow hover\n",
    "    get_radius=1000, # radius of the points\n",
    "    get_fill_color=[180, 0, 200, 140],\n",
    "\n",
    ")\n",
    "\n",
    "# Define rendering/\"camera angle\" on the map\n",
    "# Set the viewport location\n",
    "view_state = pdk.ViewState(\n",
    "    longitude=-1.415, #  Latitude of the viewport center on map. Default to 0.\n",
    "    latitude=52.2323, # Longitude of the viewport center on map. Default to 0.\n",
    "    zoom=6, # map zoom\n",
    "    min_zoom=5,\n",
    "    max_zoom=15,\n",
    "    pitch= 40.5, # The pitch (tilt) of the map from the screen, in degrees (0 is straight down). Default to 0\n",
    "    bearing=-30 # The bearing (rotation) of the map from north, in degrees counter-clockwise (0 means north is up). Default to 0.\n",
    ")\n",
    "\n",
    "# Render\n",
    "# r = pdk.Deck(layers=[layer], initial_view_state=view_state,map_style='light')\n",
    "# r.to_html('scatter_demo.html')"
   ]
  },
  {
   "attachments": {},
   "cell_type": "markdown",
   "id": "de30d2d7",
   "metadata": {},
   "source": [
    "## Plot voting area polygons"
   ]
  },
  {
   "cell_type": "code",
   "execution_count": null,
   "id": "5703a5ee",
   "metadata": {},
   "outputs": [],
   "source": [
    "with open(\"election_data/election.json\") as f:\n",
    "                    data = json.load(f)\n",
    "\n",
    "geojson = pdk.Layer(\n",
    "    'GeoJsonLayer',\n",
    "    data,\n",
    "    opacity=0.8,\n",
    "    stroked=False,\n",
    "    filled=True,\n",
    "    extruded=True,\n",
    "    wireframe=True,\n",
    "    get_elevation='properties.votes',\n",
    "    get_fill_color='[255, 255, properties.share_soc * 255]',\n",
    "    get_line_color=[255, 255, 255],\n",
    "    pickable=True\n",
    ")\n",
    "\n",
    "view_state = pdk.ViewState(\n",
    "    longitude=10.05, #  Latitude of the viewport center on map. Default to 0.\n",
    "    latitude=55.96, # Longitude of the viewport center on map. Default to 0.\n",
    "    zoom=6, # map zoom\n",
    "    min_zoom=5,\n",
    "    max_zoom=15,\n",
    "    pitch= 40.5, # The pitch (tilt) of the map from the screen, in degrees (0 is straight down). Default to 0\n",
    "    bearing=-30 # The bearing (rotation) of the map from north, in degrees counter-clockwise (0 means north is up). Default to 0.\n",
    ")\n",
    "\n",
    "r = pdk.Deck(layers=[geojson],initial_view_state=view_state,map_style='light')\n",
    "\n",
    "# Render\n",
    "r.to_html(\"voting_areas.html\")"
   ]
  },
  {
   "cell_type": "code",
   "execution_count": null,
   "id": "b1543454",
   "metadata": {},
   "outputs": [],
   "source": []
  }
 ],
 "metadata": {
  "kernelspec": {
   "display_name": "cdq_new",
   "language": "python",
   "name": "python3"
  },
  "language_info": {
   "codemirror_mode": {
    "name": "ipython",
    "version": 3
   },
   "file_extension": ".py",
   "mimetype": "text/x-python",
   "name": "python",
   "nbconvert_exporter": "python",
   "pygments_lexer": "ipython3",
   "version": "3.11.3"
  },
  "vscode": {
   "interpreter": {
    "hash": "bb88738662d51bc09c0ce08370284f3b3358f12b83bd922b00d8e9990a2292b6"
   }
  }
 },
 "nbformat": 4,
 "nbformat_minor": 5
}
