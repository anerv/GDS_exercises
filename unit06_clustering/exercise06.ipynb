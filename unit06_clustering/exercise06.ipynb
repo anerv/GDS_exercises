{
 "cells": [
  {
   "cell_type": "markdown",
   "metadata": {},
   "source": [
    "<div class=\"frontmatter text-center\">\n",
    "<h1>Geospatial Data Science</h1>\n",
    "<h2>Exercise 6: Clustering</h2>\n",
    "<h3>IT University of Copenhagen, Spring 2022</h3>\n",
    "<h3>Instructor: Anastassia Vybornova & Ane Rahbek Vierø</h3>\n",
    "</div>\n",
    "\n",
    "# Source\n",
    "This notebook was adapted from:\n",
    "* A course on geographic data science: https://darribas.org/gds_course/content/bG/diy_G.html"
   ]
  },
  {
   "cell_type": "code",
   "execution_count": null,
   "metadata": {},
   "outputs": [],
   "source": [
    "# import packages\n",
    "\n",
    "import geopandas as gpd\n",
    "import pandas as pd\n",
    "import numpy as np\n",
    "\n",
    "from sklearn import cluster\n",
    "from pysal.lib import weights\n",
    "from pysal.lib import examples\n",
    "\n",
    "import matplotlib.pyplot as plt\n",
    "import seaborn as sns\n",
    "import contextily as cx"
   ]
  },
  {
   "cell_type": "markdown",
   "metadata": {},
   "source": [
    "## Task I: NYC Geodemographics\n",
    "\n",
    "We are going to try to get at the (geographic) essence of New York City. For that, we will rely on the same set up Census tracts for New York City we used for exercise 4 (from the [PySAL examples](https://pysal.org/libpysal/tutorial.html?highlight=examples#example-datasets)). Once you have the `nyc` object loaded, create a geodemographic classification using the following variables:\n",
    "\n",
    "- `european`: Population White\n",
    "- `asian`: Population Asian American\n",
    "- `american`: Population American Indian\n",
    "- `african`: Population African American\n",
    "- `hispanic`: Population Hispanic\n",
    "- `mixed`: Population Mixed race\n",
    "- `pacific`: Population Pacific Islander\n",
    "- `otherethni`: Population of other ethnicity\n",
    "\n",
    "Before performing the clustering, make sure to standardize these variables (by using percentages instead of absolute numbers). NB: Compute the total population for each tract yourself (do *not* use the \"poptot\" column from the data set as this will lead to discrepancies.) The resulting values should range from 0 (no population of a given ethnic group in that tract) to 1 (all population of that tract is in the given ethnic group). Once this is ready, get to work with the following tasks:\n",
    "\n",
    "1. Pick a number of clusters, N\n",
    "1. Run K-Means for N clusters\n",
    "1. Plot the different clusters on a map\n",
    "1. Analyse the results:\n",
    "    - *What do you find?*\n",
    "    - *What are the main characteristics of each cluster?*\n",
    "    - *How are clusters distributed geographically?*\n",
    "    - *Can you identify some groups concentrated on particular areas (e.g. China Town, Little Italy)?*\n",
    "1. Redo with a different N; how do results depend on the number of chosen clusters?"
   ]
  },
  {
   "cell_type": "code",
   "execution_count": null,
   "metadata": {},
   "outputs": [],
   "source": [
    "examples.explain(\"NYC Socio-Demographics\")"
   ]
  },
  {
   "cell_type": "code",
   "execution_count": null,
   "metadata": {},
   "outputs": [],
   "source": [
    "# Load data\n",
    "nyc_data = examples.load_example(\"NYC Socio-Demographics\")\n",
    "\n",
    "nyc = gpd.read_file(nyc_data.get_path(\"NYC_Tract_ACS2008_12.shp\"))\n",
    "\n",
    "nyc.plot(figsize=(9, 9));"
   ]
  },
  {
   "cell_type": "code",
   "execution_count": null,
   "metadata": {},
   "outputs": [],
   "source": [
    "# Your solution for Task I"
   ]
  },
  {
   "cell_type": "markdown",
   "metadata": {},
   "source": [
    "## Task II: Regionalisation of Dar Es Salaam\n",
    "\n",
    "For this task we will travel to Tanzania's Dar Es Salaam. We are using a dataset assembled to describe the built environment of the city centre. Let's load up the dataset first.\n",
    "\n",
    "**Make sure you are connected to the internet when you run this cell.**\n"
   ]
  },
  {
   "cell_type": "code",
   "execution_count": null,
   "metadata": {},
   "outputs": [],
   "source": [
    "# Read the file in\n",
    "db = gpd.read_file(\"http://darribas.org/gds_course/content/data/dar_es_salaam.geojson\")"
   ]
  },
  {
   "cell_type": "code",
   "execution_count": null,
   "metadata": {},
   "outputs": [],
   "source": [
    "db.head()"
   ]
  },
  {
   "cell_type": "markdown",
   "metadata": {},
   "source": [
    "Geographically, this is what we are looking at:"
   ]
  },
  {
   "cell_type": "code",
   "execution_count": null,
   "metadata": {
    "tags": [
     "hide-input"
    ]
   },
   "outputs": [],
   "source": [
    "ax = db.plot(\n",
    "    facecolor=\"none\", \n",
    "    edgecolor=\"red\",\n",
    "    linewidth=0.5,\n",
    "    figsize=(20, 20)\n",
    ")\n",
    "cx.add_basemap(\n",
    "    ax, \n",
    "    crs=db.crs, \n",
    "    source=cx.providers.Esri.WorldImagery\n",
    ")"
   ]
  },
  {
   "cell_type": "markdown",
   "metadata": {},
   "source": [
    "\n",
    "We can inspect the table:"
   ]
  },
  {
   "cell_type": "code",
   "execution_count": null,
   "metadata": {},
   "outputs": [],
   "source": [
    "db.info()"
   ]
  },
  {
   "cell_type": "markdown",
   "metadata": {},
   "source": [
    "Two main aspects of the built environment are considered: the street network and buildings. To capture those, the following variables are calculated at for the H3 hexagonal grid system, zoom level 8:\n",
    "\n",
    "- Building density: number of buildings per hexagon\n",
    "- Building coverage: proportion of the hexagon covered by buildings\n",
    "- Street length: total length of streets within the hexagon\n",
    "- Street linearity: a measure of how regular the street network is\n",
    "\n",
    "With these at hand, your task is the following:\n",
    "\n",
    "- **Develop a regionalisation that partitions Dar Es Salaam based on its built environment**\n",
    "\n",
    "*These are only guidelines, feel free to improvise and go beyond what's set. The sky is the limit!*\n",
    "\n",
    "\n",
    "For that, you can follow these suggestions:\n",
    "\n",
    "- Create a spatial weights matrix to capture spatial relationships between hexagons.\n",
    "    - If you use nearest neighbours: think about whether the geometry of the polygons should be accounted for;\n",
    "    - If you use a distance band: think about an appropriate threshold and appropriate units (possibly change the CRS for that; hint: [this map of UTM zones](https://www.arcgis.com/home/item.html?id=b294795270aa4fb3bd25286bf09edc51) and a search on the https://epsg.io/ website can help!) \n",
    "- Set up a regionalisation algorithm with a given number of clusters (e.g. five or seven)\n",
    "- Generate a geometry that contains only the boundaries of each region and visualise it (ideally with a satellite image as basemap for context); for an appropriate cmap browse [matplotlib's cmap palettes](https://matplotlib.org/stable/tutorials/colors/colormaps.html)\n",
    "- Rinse and repeat with several combinations of variables and number of clusters\n",
    "- Pick your best. *Why have you selected it? What does it show? What are the main groups of areas based on the built environment?*"
   ]
  },
  {
   "cell_type": "code",
   "execution_count": null,
   "metadata": {},
   "outputs": [],
   "source": [
    "# Your solution for Task II"
   ]
  }
 ],
 "metadata": {
  "kernelspec": {
   "display_name": "Python 3",
   "language": "python",
   "name": "python3"
  },
  "language_info": {
   "codemirror_mode": {
    "name": "ipython",
    "version": 3
   },
   "file_extension": ".py",
   "mimetype": "text/x-python",
   "name": "python",
   "nbconvert_exporter": "python",
   "pygments_lexer": "ipython3",
   "version": "3.8.8"
  }
 },
 "nbformat": 4,
 "nbformat_minor": 4
}
