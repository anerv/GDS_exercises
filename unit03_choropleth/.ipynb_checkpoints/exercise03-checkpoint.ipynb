{
 "cells": [
  {
   "cell_type": "markdown",
   "metadata": {},
   "source": [
    "<div class=\"frontmatter text-center\">\n",
    "<h1>Geospatial Data Science</h1>\n",
    "<h2>Exercise 3: Choropleths</h2>\n",
    "<h3>IT University of Copenhagen, Spring 2022</h3>\n",
    "<h3>Instructor: Anastassia Vybornova & Ane Rahbek Vierø</h3>\n",
    "</div>\n",
    "\n",
    "# Source\n",
    "This notebook was adapted from:\n",
    "* A course on geographic data science: https://darribas.org/gds_course/content/bD/diy_D.html"
   ]
  },
  {
   "cell_type": "markdown",
   "metadata": {},
   "source": [
    "\n",
    "## Data preparation\n",
    "\n",
    "\n",
    "The AHAH dataset was invented by a University of Liverpool team. If you want to find out more about the background and details of the project, have a look at the [information page](https://data.cdrc.ac.uk/dataset/access-healthy-assets-hazards-ahah) at the CDRC website.\n",
    "\n",
    "\n",
    "We are going to use the Access to Healthy Assets and Hazards (AHAH) index. This is a score that ranks LSOAs (*see this lesson for an explanation of the LSOA geometries [block B](https://darribas.org/gds_course/content/bB/lab_B.html)*) by the proximity to features of the environment that are considered positive for health (assets) and negative (hazards).  \n",
    "The resulting number gives us a sense of how \"unhealthy\" the environment of the LSOA is. The higher the score, the less healthy the area is assessed to be.\n",
    "\n",
    "***\n",
    "**Important**  \n",
    "You will need a username and password before you can download the data. Create it for free at:\n",
    "\n",
    "> [https://data.cdrc.ac.uk/user/register](https://data.cdrc.ac.uk/user/register)\n",
    "***\n",
    "\n",
    "**<font color=\"purple\">Download data here:</font>** [Liverpool AHAH GeoData pack](https://data.cdrc.ac.uk/system/files/Access_to_Healthy_Assets_and_Hazards_AHAH/Access_to_Healthy_Assets_and_Hazards_AHAH_E08000012.zip)\n",
    "\n",
    "Once you have the `.zip` file on your computer, right-click and \"Extract all\". The resulting folder will contain all you need. For the sake of the example, let's assume you place the resulting folder in the same location as the notebook you are using. If that is the case, you can load up a `GeoDataFrame` of Liverpool neighborhoods with:\n",
    "\n",
    "```python\n",
    "import geopandas\n",
    "lsoas = geopandas.read_file(\"Access_to_Healthy_Assets_and_Hazards_AHAH_E08000012/data/Access_to_Healthy_Assets_and_Hazards_AHAH/Local_Authority_Districts/E08000012/shapefiles/E08000012.shp\")\n",
    "```\n",
    "\n",
    "Now, this gets us the geometries of the LSOAs, but not the AHAH data. For that, we need to read in the data and join it to `ahah`. Assuming the same location of the data as above, we can do as follows:\n",
    "\n",
    "```python\n",
    "import pandas\n",
    "ahah_data = pandas.read_csv(\"Access_to_Healthy_Assets_and_Hazards_AHAH_E08000012/data/Access_to_Healthy_Assets_and_Hazards_AHAH/Local_Authority_Districts/E0800001/tables/E08000012.csv\")\n",
    "```\n",
    "\n",
    "To join the two dataframes:\n",
    "\n",
    "```python\n",
    "ahah = lsoas.join(ahah_data.set_index(\"lsoa11cd\"), on=\"lsoa11cd\")\n",
    "```\n",
    "\n",
    "Now we're ready to map using the `ahah` object."
   ]
  },
  {
   "cell_type": "markdown",
   "metadata": {},
   "source": [
    "## Tasks\n",
    "\n",
    "### Task I: AHAH choropleths\n",
    "\n",
    "Create the following choropleths using the **ahah column** containing the AHAH index and, where possible, complement them with a figure that displays the distribution of values using a KDE:\n",
    "\n",
    "- Equal Interval with five classes\n",
    "- Quantiles with five classes\n",
    "- Fisher-Jenks with five classes\n",
    "- Unique Values with the following setup:\n",
    "    - Split the LSOAs in two classes: above and below the average AHAH score\n",
    "    - Assign a qualitative label (`above` or `below`) to each LSOA\n",
    "    - Create a unique value map for the labels you have just created"
   ]
  },
  {
   "cell_type": "code",
   "execution_count": 1,
   "metadata": {},
   "outputs": [],
   "source": [
    "# Add your code here "
   ]
  },
  {
   "cell_type": "markdown",
   "metadata": {},
   "source": [
    "### Task II: Zoom maps\n",
    "\n",
    "Generate the following maps:\n",
    "\n",
    "- Zoom of the [city centre of Liverpool](https://osm.org/go/euf9EJpQ-?m=) with he same color for every LSOA\n",
    "- Quantile map of AHAH for all of Liverpool, zoomed into [north of the city centre](https://osm.org/go/euf9TZJ?m=)\n",
    "- Zoom to [north of the city centre](https://osm.org/go/euf9TZJ?m=) with a quantile map of AHAH for the section only"
   ]
  },
  {
   "cell_type": "code",
   "execution_count": 2,
   "metadata": {},
   "outputs": [],
   "source": [
    "# Add your code here"
   ]
  },
  {
   "cell_type": "code",
   "execution_count": null,
   "metadata": {},
   "outputs": [],
   "source": []
  }
 ],
 "metadata": {
  "kernelspec": {
   "display_name": "Python 3",
   "language": "python",
   "name": "python3"
  },
  "language_info": {
   "codemirror_mode": {
    "name": "ipython",
    "version": 3
   },
   "file_extension": ".py",
   "mimetype": "text/x-python",
   "name": "python",
   "nbconvert_exporter": "python",
   "pygments_lexer": "ipython3",
   "version": "3.8.8"
  }
 },
 "nbformat": 4,
 "nbformat_minor": 4
}
