{
 "cells": [
  {
   "attachments": {},
   "cell_type": "markdown",
   "metadata": {},
   "source": [
    "<div class=\"frontmatter text-center\">\n",
    "<h1>Geospatial Data Science</h1>\n",
    "<h2>Exercise 3: Choropleth Maps</h2>\n",
    "<h3>IT University of Copenhagen, Spring 2023</h3>\n",
    "<h3>Instructor: Jan Leonard Schelhaas</h3>\n",
    "</div>\n",
    "\n",
    "This notebook was adapted from:\n",
    "* A course on geographic data science: https://darribas.org/gds_course/content/bD/diy_D.html"
   ]
  },
  {
   "attachments": {},
   "cell_type": "markdown",
   "metadata": {},
   "source": [
    "## Data\n",
    "\n",
    "For the exercise we will use 2 data sets:\n",
    "- data with the name and spatial extent of all Danish municipalities\n",
    "- data with the number of covid cases per 100.000 residents in all Danish municipalities\n",
    "\n",
    "The idea is to create choropleth maps of the COVID19-rate in the different municipalities using PySal's `mapclassify`. Before we can do that, the COVID-data must be *joined* to the data with the geometries.\n",
    "To do that you can use a column `municipal_id` that exist in both data sets.\n",
    "\n",
    "## Tasks\n",
    "\n",
    "1. Choropleth Maps\n",
    "2. Compare Classification Schemes\n",
    "3. Zoom Maps\n",
    "\n",
    "<div class=\"alert alert-block alert-info\">\n",
    "There are at two strong outliers in the data. Try to remove them and see how that changes the classification results.\n",
    "</div>"
   ]
  },
  {
   "cell_type": "code",
   "execution_count": null,
   "metadata": {},
   "outputs": [],
   "source": [
    "import pandas as pd\n",
    "import geopandas as gpd\n",
    "import matplotlib.pyplot as plt\n",
    "from pysal.viz import mapclassify\n",
    "import seaborn as sns\n",
    "import numpy as np\n",
    "import contextily as cx"
   ]
  },
  {
   "attachments": {},
   "cell_type": "markdown",
   "metadata": {},
   "source": [
    "### Task 1: COVID-19 choropleths\n",
    "\n",
    "1. Create 3-4 different choropleths using classification methods your own choice based on the number of covid cases per 100,000 people (column **Cumulative_incidens_per_100000**), and complement them with a figure that displays the distribution of values using a KDE.\n",
    "\n",
    "2. Create a choropleth map with qualitative values based on the following method:\n",
    "- Split the municipalities in two classes: above and below the median COVID-19 rate\n",
    "- Assign a qualitative label (`above` or `below`) to each municipality\n",
    "- Create a unique value map for the labels you have just created"
   ]
  },
  {
   "cell_type": "code",
   "execution_count": null,
   "metadata": {},
   "outputs": [],
   "source": [
    "\n"
   ]
  },
  {
   "attachments": {},
   "cell_type": "markdown",
   "metadata": {},
   "source": [
    "### Task 2: Compare Classification Schemes\n",
    "\n",
    "Evaluate the classification schemes (not including the last, manual one) using the approach presented [here](https://geographicdata.science/book/notebooks/05_choropleth.html#comparing-classification-schemes).\n",
    "\n",
    "**Which one would you use? Why?**"
   ]
  },
  {
   "cell_type": "code",
   "execution_count": null,
   "metadata": {},
   "outputs": [],
   "source": []
  },
  {
   "attachments": {},
   "cell_type": "markdown",
   "metadata": {},
   "source": [
    "### Task 3: Zoom Maps\n",
    "\n",
    "Generate the following maps:\n",
    "\n",
    "- Zoom on **an area of your choice**.\n",
    "- Chloropleth map of your choice with COVID-19 rate for all of **the selected area**, but using a **classification based on all of DK**.\n",
    "- Same as above, **but this time with a classification based on the values in the zoom extent only**."
   ]
  },
  {
   "cell_type": "code",
   "execution_count": null,
   "metadata": {},
   "outputs": [],
   "source": []
  }
 ],
 "metadata": {
  "kernelspec": {
   "display_name": "gds_py",
   "language": "python",
   "name": "python3"
  },
  "language_info": {
   "codemirror_mode": {
    "name": "ipython",
    "version": 3
   },
   "file_extension": ".py",
   "mimetype": "text/x-python",
   "name": "python",
   "nbconvert_exporter": "python",
   "pygments_lexer": "ipython3",
   "version": "3.9.15 | packaged by conda-forge | (main, Nov 22 2022, 08:55:37) \n[Clang 14.0.6 ]"
  },
  "vscode": {
   "interpreter": {
    "hash": "09273b9d70777594a7b7f3f6c3e8e91be451f5d194695438b5ebcc24128e9f82"
   }
  }
 },
 "nbformat": 4,
 "nbformat_minor": 4
}
