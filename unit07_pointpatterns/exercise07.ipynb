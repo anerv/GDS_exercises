{
 "cells": [
  {
   "cell_type": "markdown",
   "metadata": {},
   "source": [
    "<div class=\"frontmatter text-center\">\n",
    "<h1>Geospatial Data Science</h1>\n",
    "<h2>Exercise 7: Point Pattern Analysis</h2>\n",
    "<h3>IT University of Copenhagen, Spring 2022</h3>\n",
    "<h3>Instructor: Anastassia Vybornova & Ane Rahbek Vierø</h3>\n",
    "</div>\n",
    "\n",
    "# Source\n",
    "This notebook was adapted from:\n",
    "* A course on geographic data science: https://darribas.org/gds_course/content/bH/diy_H.html\n"
   ]
  },
  {
   "cell_type": "code",
   "execution_count": null,
   "metadata": {},
   "outputs": [],
   "source": [
    "import pandas as pd\n",
    "import geopandas as gpd\n",
    "import contextily as cx\n",
    "import matplotlib.pyplot as plt\n",
    "import seaborn as sns\n",
    "\n",
    "from sklearn.cluster import DBSCAN\n",
    "from ipywidgets import interact, fixed"
   ]
  },
  {
   "cell_type": "markdown",
   "metadata": {},
   "source": [
    "## Task I: AirBnb distribution in Copenhagen\n",
    "\n",
    "In this task, you will explore patterns in the distribution of the location of AirBnb properties in Copenhagen from [Inside AirBnb](http://insideairbnb.com). We are going to read a file with the locations of the properties available as of December 2021:\n",
    "\n"
   ]
  },
  {
   "cell_type": "markdown",
   "metadata": {},
   "source": [
    "\n",
    "**Make sure you are connected to the internet when you run this cell :)**\n"
   ]
  },
  {
   "cell_type": "code",
   "execution_count": null,
   "metadata": {},
   "outputs": [],
   "source": [
    "url_abb = 'http://data.insideairbnb.com/denmark/hovedstaden/copenhagen/2021-12-28/visualisations/listings.csv'\n",
    "\n",
    "abb_df = pd.read_csv(url_abb)\n",
    "\n",
    "abb_df.info()"
   ]
  },
  {
   "cell_type": "markdown",
   "metadata": {},
   "source": [
    "This gives us a table with the following information:"
   ]
  },
  {
   "cell_type": "code",
   "execution_count": null,
   "metadata": {},
   "outputs": [],
   "source": [
    "abb_df.head()"
   ]
  },
  {
   "cell_type": "markdown",
   "metadata": {},
   "source": [
    "The dataset contains geometries in the form of long, lat coordinates - but you have to construct the geometry object before we continue working with them:"
   ]
  },
  {
   "cell_type": "code",
   "execution_count": null,
   "metadata": {},
   "outputs": [],
   "source": [
    "# ADD YOUR CODE HERE AND READ THE DATA INTO THE 'abb' GEODATAFRAME\n",
    "\n",
    "abb = gpd.GeoDataFrame()"
   ]
  },
  {
   "cell_type": "markdown",
   "metadata": {},
   "source": [
    "Also, for an ancillary geography, we will use the neighbourhoods provided by the same source. \n",
    "First we need to make sure that the CRS match and is suitable for analysis in DK (i.e. use **EPSG:25832**). \n",
    "Some of the data might not have a CRS defined, but based on the lat long coordinates, we can assume that it is in WGS84 / EPSG:4326."
   ]
  },
  {
   "cell_type": "markdown",
   "metadata": {},
   "source": [
    "**Make sure you are connected to the internet when you run this cell as well:**"
   ]
  },
  {
   "cell_type": "code",
   "execution_count": null,
   "metadata": {},
   "outputs": [],
   "source": [
    "# Filepath to neighbourhood geometries\n",
    "url_neis = 'http://data.insideairbnb.com/denmark/hovedstaden/copenhagen/2021-12-28/visualisations/neighbourhoods.geojson'\n",
    "\n",
    "neis = gpd.read_file(url_neis)\n",
    "\n",
    "neis.info()"
   ]
  },
  {
   "cell_type": "code",
   "execution_count": null,
   "metadata": {},
   "outputs": [],
   "source": [
    "# ADD YOUR CODE HERE\n"
   ]
  },
  {
   "cell_type": "markdown",
   "metadata": {},
   "source": [
    "**When reading files with 'æøå' we often end up with encoding errors (have a look at the neighbourhood names). To make sure that the names will work for a later join, run the cell below to rename the neighbourhoods.** \n",
    "\n",
    "Because of this it is always recommended to use a numerical ID rather than name if available."
   ]
  },
  {
   "cell_type": "code",
   "execution_count": null,
   "metadata": {},
   "outputs": [],
   "source": [
    "# Fix neighbourhood names\n",
    "\n",
    "rename_dict = {'Brnshj-Husum' : 'Broenshoej-Husum', 'sterbro' : 'Oesterbro', 'Nrrebro': 'Noerrebro', 'Amager st' : 'Amager Oest', 'Vanlse': 'Vanloese'}\n",
    "\n",
    "abb.replace(rename_dict, inplace=True)\n",
    "neis.replace(rename_dict, inplace=True)"
   ]
  },
  {
   "cell_type": "code",
   "execution_count": null,
   "metadata": {},
   "outputs": [],
   "source": [
    "# Lets try to plot the two data sets together and see what it looks like\n",
    "\n",
    "\n",
    "# ADD YOUR CODE HERE"
   ]
  },
  {
   "cell_type": "markdown",
   "metadata": {},
   "source": [
    "### With these at hand, get to work with the following challenges:\n",
    "\n",
    "1. Create a Hex binning map of the property locations\n",
    "2. Compute and display a kernel density estimate (KDE) of the distribution of the properties-\n",
    "3. Using the neighbourhood layer:\n",
    "    - Obtain a count of property by neighbourhood (nothe the neighbourhood name is present in the property table and you can connect the two tables through that).\n",
    "    - Create a raw count choropleth.\n",
    "    - Create a choropleth of the density of properties by polygon (for this step you thus need to find the number of airbnb-points per area for each polygon/neighbourhood.\n",
    "    \n",
    "\n",
    "\n",
    "* **Think about the pros and cons of these different ways of visualising point density. Which one do you prefer? Why?**\n",
    "    "
   ]
  },
  {
   "cell_type": "code",
   "execution_count": null,
   "metadata": {},
   "outputs": [],
   "source": []
  },
  {
   "cell_type": "markdown",
   "metadata": {},
   "source": [
    "## Task II: Clusters of Danish tourist attractions\n",
    "\n",
    "For this part, we are going to use a dataset on attractions ('Seværdigheder') in Denmark.\n",
    "The original data can be found here: https://dataforsyningen.dk/data/1038\n",
    "\n",
    "The data set covers all of Denmark, but if you want to, you can select a specific region to analyse.\n",
    "\n",
    "*Tip: The geometries in the data are polygons - but very small ones. It is a good idea to use their centroids instead of the original geometries.*\n"
   ]
  },
  {
   "cell_type": "code",
   "execution_count": null,
   "metadata": {},
   "outputs": [],
   "source": [
    "fp = 'data/pois.gpkg'\n",
    "\n",
    "pois = gpd.read_file(fp)"
   ]
  },
  {
   "cell_type": "code",
   "execution_count": null,
   "metadata": {},
   "outputs": [],
   "source": [
    "# ADD YOUR CODE HERE\n"
   ]
  },
  {
   "cell_type": "markdown",
   "metadata": {},
   "source": [
    "This is what we have to work with then:"
   ]
  },
  {
   "cell_type": "code",
   "execution_count": null,
   "metadata": {},
   "outputs": [],
   "source": [
    "ax = pois.plot(\n",
    "    color=\"xkcd:bright yellow\", figsize=(9, 9)\n",
    ")\n",
    "cx.add_basemap(\n",
    "    ax, \n",
    "    crs=pois.crs,\n",
    "    source=cx.providers.CartoDB.DarkMatter\n",
    ")"
   ]
  },
  {
   "cell_type": "markdown",
   "metadata": {},
   "source": [
    "### With this at hand, get to work:\n",
    "\n",
    "- Use the DBSCAN algorithm to identify clusters.\n",
    "- Start with the following parameters: at least 3 sites for a cluster (`min_samples`) and a maximum of 1 Km (`eps`).\n",
    "- Obtain the clusters and plot them on a map. *Does it pick up any interesting pattern?*.\n",
    "- Based on the results above, tweak the values of both parameters to find the parameter values you think makes sense.\n",
    "- What clusters can you identify?\n",
    "\n",
    "#### Challenge 1\n",
    "- Create a function that identifies clusters and plots then. Parameters should be the dataframe, min sample size and maximum distance.\n",
    "\n",
    "#### Challenge 2\n",
    "- Use [ipywidgets](https://ipywidgets.readthedocs.io/en/stable/examples/Using%20Interact.html) and your function from Challenge 1 to create an interactive plot that changes as you modify the cluster parameters (i.e. min sample size and max distance)"
   ]
  },
  {
   "cell_type": "code",
   "execution_count": null,
   "metadata": {},
   "outputs": [],
   "source": [
    "# ADD YOUR CODE HERE\n",
    "\n"
   ]
  }
 ],
 "metadata": {
  "kernelspec": {
   "display_name": "Python 3",
   "language": "python",
   "name": "python3"
  },
  "language_info": {
   "codemirror_mode": {
    "name": "ipython",
    "version": 3
   },
   "file_extension": ".py",
   "mimetype": "text/x-python",
   "name": "python",
   "nbconvert_exporter": "python",
   "pygments_lexer": "ipython3",
   "version": "3.8.8"
  }
 },
 "nbformat": 4,
 "nbformat_minor": 4
}
